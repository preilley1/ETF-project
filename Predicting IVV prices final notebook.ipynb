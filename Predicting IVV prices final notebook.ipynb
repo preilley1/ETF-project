{
 "cells": [
  {
   "cell_type": "markdown",
   "metadata": {},
   "source": [
    "## Import Libraries"
   ]
  },
  {
   "cell_type": "code",
   "execution_count": 136,
   "metadata": {},
   "outputs": [],
   "source": [
    "import pandas as pd\n",
    "import numpy as np\n",
    "import seaborn as sns\n",
    "from sklearn.linear_model import LinearRegression\n",
    "from sklearn.model_selection import train_test_split, cross_val_score, cross_val_predict, GroupShuffleSplit, TimeSeriesSplit\n",
    "from sklearn.preprocessing import PolynomialFeatures, StandardScaler\n",
    "from sklearn.ensemble import RandomForestRegressor, AdaBoostRegressor, BaggingRegressor, ExtraTreesRegressor, GradientBoostingRegressor\n",
    "from sklearn.svm import SVR\n",
    "import matplotlib.pyplot as plt\n",
    "from xgboost import XGBRegressor\n",
    "from sklearn.tree import DecisionTreeRegressor\n",
    "import seaborn as sns\n",
    "%matplotlib inline\n",
    "from sklearn.model_selection import GridSearchCV\n",
    "\n",
    "from statsmodels.graphics.tsaplots import plot_acf, plot_pacf\n",
    "from statsmodels.tsa.arima_model import AR, ARIMA, ARMA"
   ]
  },
  {
   "cell_type": "markdown",
   "metadata": {},
   "source": [
    "### Read in cleaned_etf"
   ]
  },
  {
   "cell_type": "code",
   "execution_count": 137,
   "metadata": {},
   "outputs": [],
   "source": [
    "etf = pd.read_csv('clean_etf.csv')"
   ]
  },
  {
   "cell_type": "code",
   "execution_count": 138,
   "metadata": {},
   "outputs": [
    {
     "data": {
      "text/html": [
       "<div>\n",
       "<style scoped>\n",
       "    .dataframe tbody tr th:only-of-type {\n",
       "        vertical-align: middle;\n",
       "    }\n",
       "\n",
       "    .dataframe tbody tr th {\n",
       "        vertical-align: top;\n",
       "    }\n",
       "\n",
       "    .dataframe thead th {\n",
       "        text-align: right;\n",
       "    }\n",
       "</style>\n",
       "<table border=\"1\" class=\"dataframe\">\n",
       "  <thead>\n",
       "    <tr style=\"text-align: right;\">\n",
       "      <th></th>\n",
       "      <th>date</th>\n",
       "      <th>iyr_close</th>\n",
       "      <th>eem_close</th>\n",
       "      <th>agg_close</th>\n",
       "      <th>emb_close</th>\n",
       "      <th>bsv_close</th>\n",
       "      <th>iau_close</th>\n",
       "      <th>ifeu_close</th>\n",
       "      <th>ijh_close</th>\n",
       "      <th>slv_close</th>\n",
       "      <th>ijr_close</th>\n",
       "      <th>ivv_close</th>\n",
       "      <th>ivv_close_shft</th>\n",
       "    </tr>\n",
       "  </thead>\n",
       "  <tbody>\n",
       "    <tr>\n",
       "      <th>2523</th>\n",
       "      <td>2007-12-27</td>\n",
       "      <td>66.48</td>\n",
       "      <td>50.52</td>\n",
       "      <td>100.60</td>\n",
       "      <td>101.17</td>\n",
       "      <td>76.67</td>\n",
       "      <td>8.16</td>\n",
       "      <td>47.06</td>\n",
       "      <td>85.91</td>\n",
       "      <td>14.53</td>\n",
       "      <td>32.80</td>\n",
       "      <td>148.13</td>\n",
       "      <td>147.60</td>\n",
       "    </tr>\n",
       "    <tr>\n",
       "      <th>2524</th>\n",
       "      <td>2007-12-26</td>\n",
       "      <td>68.58</td>\n",
       "      <td>51.71</td>\n",
       "      <td>100.46</td>\n",
       "      <td>101.41</td>\n",
       "      <td>76.53</td>\n",
       "      <td>8.17</td>\n",
       "      <td>47.03</td>\n",
       "      <td>87.54</td>\n",
       "      <td>14.60</td>\n",
       "      <td>33.74</td>\n",
       "      <td>150.67</td>\n",
       "      <td>148.13</td>\n",
       "    </tr>\n",
       "    <tr>\n",
       "      <th>2525</th>\n",
       "      <td>2007-12-21</td>\n",
       "      <td>67.89</td>\n",
       "      <td>51.24</td>\n",
       "      <td>100.74</td>\n",
       "      <td>101.15</td>\n",
       "      <td>76.96</td>\n",
       "      <td>8.02</td>\n",
       "      <td>46.55</td>\n",
       "      <td>87.05</td>\n",
       "      <td>14.21</td>\n",
       "      <td>33.41</td>\n",
       "      <td>149.04</td>\n",
       "      <td>150.67</td>\n",
       "    </tr>\n",
       "    <tr>\n",
       "      <th>2526</th>\n",
       "      <td>2007-12-20</td>\n",
       "      <td>66.75</td>\n",
       "      <td>49.74</td>\n",
       "      <td>101.18</td>\n",
       "      <td>101.26</td>\n",
       "      <td>77.25</td>\n",
       "      <td>7.88</td>\n",
       "      <td>45.20</td>\n",
       "      <td>85.88</td>\n",
       "      <td>14.09</td>\n",
       "      <td>32.73</td>\n",
       "      <td>147.10</td>\n",
       "      <td>149.04</td>\n",
       "    </tr>\n",
       "    <tr>\n",
       "      <th>2527</th>\n",
       "      <td>2007-12-19</td>\n",
       "      <td>66.50</td>\n",
       "      <td>49.47</td>\n",
       "      <td>101.27</td>\n",
       "      <td>101.22</td>\n",
       "      <td>77.13</td>\n",
       "      <td>7.94</td>\n",
       "      <td>45.18</td>\n",
       "      <td>84.61</td>\n",
       "      <td>13.99</td>\n",
       "      <td>32.27</td>\n",
       "      <td>146.07</td>\n",
       "      <td>147.10</td>\n",
       "    </tr>\n",
       "  </tbody>\n",
       "</table>\n",
       "</div>"
      ],
      "text/plain": [
       "            date  iyr_close  eem_close  agg_close  emb_close  bsv_close  \\\n",
       "2523  2007-12-27      66.48      50.52     100.60     101.17      76.67   \n",
       "2524  2007-12-26      68.58      51.71     100.46     101.41      76.53   \n",
       "2525  2007-12-21      67.89      51.24     100.74     101.15      76.96   \n",
       "2526  2007-12-20      66.75      49.74     101.18     101.26      77.25   \n",
       "2527  2007-12-19      66.50      49.47     101.27     101.22      77.13   \n",
       "\n",
       "      iau_close  ifeu_close  ijh_close  slv_close  ijr_close  ivv_close  \\\n",
       "2523       8.16       47.06      85.91      14.53      32.80     148.13   \n",
       "2524       8.17       47.03      87.54      14.60      33.74     150.67   \n",
       "2525       8.02       46.55      87.05      14.21      33.41     149.04   \n",
       "2526       7.88       45.20      85.88      14.09      32.73     147.10   \n",
       "2527       7.94       45.18      84.61      13.99      32.27     146.07   \n",
       "\n",
       "      ivv_close_shft  \n",
       "2523          147.60  \n",
       "2524          148.13  \n",
       "2525          150.67  \n",
       "2526          149.04  \n",
       "2527          147.10  "
      ]
     },
     "execution_count": 138,
     "metadata": {},
     "output_type": "execute_result"
    }
   ],
   "source": [
    "etf.tail()"
   ]
  },
  {
   "cell_type": "markdown",
   "metadata": {},
   "source": [
    "### Change the date to datetime dtype and set to index (when I created the csv and the read it back in it changed the original formatting from datetime and index to object and column 1...?)"
   ]
  },
  {
   "cell_type": "code",
   "execution_count": 139,
   "metadata": {},
   "outputs": [],
   "source": [
    "etf['date'] = pd.to_datetime(etf['date']) # creating datetime dtype for date "
   ]
  },
  {
   "cell_type": "code",
   "execution_count": 140,
   "metadata": {},
   "outputs": [],
   "source": [
    "etf.set_index('date', inplace = True) # setting date to \"index\" - take a look a next cell"
   ]
  },
  {
   "cell_type": "code",
   "execution_count": 141,
   "metadata": {},
   "outputs": [
    {
     "data": {
      "text/html": [
       "<div>\n",
       "<style scoped>\n",
       "    .dataframe tbody tr th:only-of-type {\n",
       "        vertical-align: middle;\n",
       "    }\n",
       "\n",
       "    .dataframe tbody tr th {\n",
       "        vertical-align: top;\n",
       "    }\n",
       "\n",
       "    .dataframe thead th {\n",
       "        text-align: right;\n",
       "    }\n",
       "</style>\n",
       "<table border=\"1\" class=\"dataframe\">\n",
       "  <thead>\n",
       "    <tr style=\"text-align: right;\">\n",
       "      <th></th>\n",
       "      <th>iyr_close</th>\n",
       "      <th>eem_close</th>\n",
       "      <th>agg_close</th>\n",
       "      <th>emb_close</th>\n",
       "      <th>bsv_close</th>\n",
       "      <th>iau_close</th>\n",
       "      <th>ifeu_close</th>\n",
       "      <th>ijh_close</th>\n",
       "      <th>slv_close</th>\n",
       "      <th>ijr_close</th>\n",
       "      <th>ivv_close</th>\n",
       "      <th>ivv_close_shft</th>\n",
       "    </tr>\n",
       "    <tr>\n",
       "      <th>date</th>\n",
       "      <th></th>\n",
       "      <th></th>\n",
       "      <th></th>\n",
       "      <th></th>\n",
       "      <th></th>\n",
       "      <th></th>\n",
       "      <th></th>\n",
       "      <th></th>\n",
       "      <th></th>\n",
       "      <th></th>\n",
       "      <th></th>\n",
       "      <th></th>\n",
       "    </tr>\n",
       "  </thead>\n",
       "  <tbody>\n",
       "    <tr>\n",
       "      <th>2018-09-21</th>\n",
       "      <td>81.91</td>\n",
       "      <td>43.23</td>\n",
       "      <td>105.46</td>\n",
       "      <td>107.24</td>\n",
       "      <td>77.99</td>\n",
       "      <td>11.49</td>\n",
       "      <td>39.68</td>\n",
       "      <td>204.08</td>\n",
       "      <td>13.44</td>\n",
       "      <td>88.44</td>\n",
       "      <td>295.36</td>\n",
       "      <td>294.47</td>\n",
       "    </tr>\n",
       "    <tr>\n",
       "      <th>2018-09-20</th>\n",
       "      <td>81.95</td>\n",
       "      <td>43.03</td>\n",
       "      <td>105.38</td>\n",
       "      <td>107.01</td>\n",
       "      <td>77.96</td>\n",
       "      <td>11.57</td>\n",
       "      <td>40.09</td>\n",
       "      <td>204.65</td>\n",
       "      <td>13.45</td>\n",
       "      <td>88.93</td>\n",
       "      <td>295.76</td>\n",
       "      <td>295.36</td>\n",
       "    </tr>\n",
       "    <tr>\n",
       "      <th>2018-09-19</th>\n",
       "      <td>81.14</td>\n",
       "      <td>42.56</td>\n",
       "      <td>105.24</td>\n",
       "      <td>106.41</td>\n",
       "      <td>77.96</td>\n",
       "      <td>11.53</td>\n",
       "      <td>39.61</td>\n",
       "      <td>203.14</td>\n",
       "      <td>13.40</td>\n",
       "      <td>88.17</td>\n",
       "      <td>293.28</td>\n",
       "      <td>295.76</td>\n",
       "    </tr>\n",
       "    <tr>\n",
       "      <th>2018-09-18</th>\n",
       "      <td>82.23</td>\n",
       "      <td>41.98</td>\n",
       "      <td>105.44</td>\n",
       "      <td>106.03</td>\n",
       "      <td>77.97</td>\n",
       "      <td>11.49</td>\n",
       "      <td>39.96</td>\n",
       "      <td>203.80</td>\n",
       "      <td>13.31</td>\n",
       "      <td>88.73</td>\n",
       "      <td>293.07</td>\n",
       "      <td>293.28</td>\n",
       "    </tr>\n",
       "    <tr>\n",
       "      <th>2018-09-14</th>\n",
       "      <td>82.23</td>\n",
       "      <td>41.96</td>\n",
       "      <td>105.67</td>\n",
       "      <td>106.69</td>\n",
       "      <td>78.02</td>\n",
       "      <td>11.46</td>\n",
       "      <td>39.68</td>\n",
       "      <td>204.87</td>\n",
       "      <td>13.23</td>\n",
       "      <td>89.47</td>\n",
       "      <td>292.91</td>\n",
       "      <td>293.07</td>\n",
       "    </tr>\n",
       "  </tbody>\n",
       "</table>\n",
       "</div>"
      ],
      "text/plain": [
       "            iyr_close  eem_close  agg_close  emb_close  bsv_close  iau_close  \\\n",
       "date                                                                           \n",
       "2018-09-21      81.91      43.23     105.46     107.24      77.99      11.49   \n",
       "2018-09-20      81.95      43.03     105.38     107.01      77.96      11.57   \n",
       "2018-09-19      81.14      42.56     105.24     106.41      77.96      11.53   \n",
       "2018-09-18      82.23      41.98     105.44     106.03      77.97      11.49   \n",
       "2018-09-14      82.23      41.96     105.67     106.69      78.02      11.46   \n",
       "\n",
       "            ifeu_close  ijh_close  slv_close  ijr_close  ivv_close  \\\n",
       "date                                                                 \n",
       "2018-09-21       39.68     204.08      13.44      88.44     295.36   \n",
       "2018-09-20       40.09     204.65      13.45      88.93     295.76   \n",
       "2018-09-19       39.61     203.14      13.40      88.17     293.28   \n",
       "2018-09-18       39.96     203.80      13.31      88.73     293.07   \n",
       "2018-09-14       39.68     204.87      13.23      89.47     292.91   \n",
       "\n",
       "            ivv_close_shft  \n",
       "date                        \n",
       "2018-09-21          294.47  \n",
       "2018-09-20          295.36  \n",
       "2018-09-19          295.76  \n",
       "2018-09-18          293.28  \n",
       "2018-09-14          293.07  "
      ]
     },
     "execution_count": 141,
     "metadata": {},
     "output_type": "execute_result"
    }
   ],
   "source": [
    "etf.head()"
   ]
  },
  {
   "cell_type": "code",
   "execution_count": 142,
   "metadata": {},
   "outputs": [
    {
     "data": {
      "text/html": [
       "<div>\n",
       "<style scoped>\n",
       "    .dataframe tbody tr th:only-of-type {\n",
       "        vertical-align: middle;\n",
       "    }\n",
       "\n",
       "    .dataframe tbody tr th {\n",
       "        vertical-align: top;\n",
       "    }\n",
       "\n",
       "    .dataframe thead th {\n",
       "        text-align: right;\n",
       "    }\n",
       "</style>\n",
       "<table border=\"1\" class=\"dataframe\">\n",
       "  <thead>\n",
       "    <tr style=\"text-align: right;\">\n",
       "      <th></th>\n",
       "      <th>iyr_close</th>\n",
       "      <th>eem_close</th>\n",
       "      <th>agg_close</th>\n",
       "      <th>emb_close</th>\n",
       "      <th>bsv_close</th>\n",
       "      <th>iau_close</th>\n",
       "      <th>ifeu_close</th>\n",
       "      <th>ijh_close</th>\n",
       "      <th>slv_close</th>\n",
       "      <th>ijr_close</th>\n",
       "      <th>ivv_close</th>\n",
       "      <th>ivv_close_shft</th>\n",
       "    </tr>\n",
       "    <tr>\n",
       "      <th>date</th>\n",
       "      <th></th>\n",
       "      <th></th>\n",
       "      <th></th>\n",
       "      <th></th>\n",
       "      <th></th>\n",
       "      <th></th>\n",
       "      <th></th>\n",
       "      <th></th>\n",
       "      <th></th>\n",
       "      <th></th>\n",
       "      <th></th>\n",
       "      <th></th>\n",
       "    </tr>\n",
       "  </thead>\n",
       "  <tbody>\n",
       "    <tr>\n",
       "      <th>2018-09-21</th>\n",
       "      <td>81.91</td>\n",
       "      <td>43.23</td>\n",
       "      <td>105.46</td>\n",
       "      <td>107.24</td>\n",
       "      <td>77.99</td>\n",
       "      <td>11.49</td>\n",
       "      <td>39.68</td>\n",
       "      <td>204.08</td>\n",
       "      <td>13.44</td>\n",
       "      <td>88.44</td>\n",
       "      <td>295.36</td>\n",
       "      <td>294.47</td>\n",
       "    </tr>\n",
       "    <tr>\n",
       "      <th>2018-09-20</th>\n",
       "      <td>81.95</td>\n",
       "      <td>43.03</td>\n",
       "      <td>105.38</td>\n",
       "      <td>107.01</td>\n",
       "      <td>77.96</td>\n",
       "      <td>11.57</td>\n",
       "      <td>40.09</td>\n",
       "      <td>204.65</td>\n",
       "      <td>13.45</td>\n",
       "      <td>88.93</td>\n",
       "      <td>295.76</td>\n",
       "      <td>295.36</td>\n",
       "    </tr>\n",
       "    <tr>\n",
       "      <th>2018-09-19</th>\n",
       "      <td>81.14</td>\n",
       "      <td>42.56</td>\n",
       "      <td>105.24</td>\n",
       "      <td>106.41</td>\n",
       "      <td>77.96</td>\n",
       "      <td>11.53</td>\n",
       "      <td>39.61</td>\n",
       "      <td>203.14</td>\n",
       "      <td>13.40</td>\n",
       "      <td>88.17</td>\n",
       "      <td>293.28</td>\n",
       "      <td>295.76</td>\n",
       "    </tr>\n",
       "    <tr>\n",
       "      <th>2018-09-18</th>\n",
       "      <td>82.23</td>\n",
       "      <td>41.98</td>\n",
       "      <td>105.44</td>\n",
       "      <td>106.03</td>\n",
       "      <td>77.97</td>\n",
       "      <td>11.49</td>\n",
       "      <td>39.96</td>\n",
       "      <td>203.80</td>\n",
       "      <td>13.31</td>\n",
       "      <td>88.73</td>\n",
       "      <td>293.07</td>\n",
       "      <td>293.28</td>\n",
       "    </tr>\n",
       "    <tr>\n",
       "      <th>2018-09-14</th>\n",
       "      <td>82.23</td>\n",
       "      <td>41.96</td>\n",
       "      <td>105.67</td>\n",
       "      <td>106.69</td>\n",
       "      <td>78.02</td>\n",
       "      <td>11.46</td>\n",
       "      <td>39.68</td>\n",
       "      <td>204.87</td>\n",
       "      <td>13.23</td>\n",
       "      <td>89.47</td>\n",
       "      <td>292.91</td>\n",
       "      <td>293.07</td>\n",
       "    </tr>\n",
       "  </tbody>\n",
       "</table>\n",
       "</div>"
      ],
      "text/plain": [
       "            iyr_close  eem_close  agg_close  emb_close  bsv_close  iau_close  \\\n",
       "date                                                                           \n",
       "2018-09-21      81.91      43.23     105.46     107.24      77.99      11.49   \n",
       "2018-09-20      81.95      43.03     105.38     107.01      77.96      11.57   \n",
       "2018-09-19      81.14      42.56     105.24     106.41      77.96      11.53   \n",
       "2018-09-18      82.23      41.98     105.44     106.03      77.97      11.49   \n",
       "2018-09-14      82.23      41.96     105.67     106.69      78.02      11.46   \n",
       "\n",
       "            ifeu_close  ijh_close  slv_close  ijr_close  ivv_close  \\\n",
       "date                                                                 \n",
       "2018-09-21       39.68     204.08      13.44      88.44     295.36   \n",
       "2018-09-20       40.09     204.65      13.45      88.93     295.76   \n",
       "2018-09-19       39.61     203.14      13.40      88.17     293.28   \n",
       "2018-09-18       39.96     203.80      13.31      88.73     293.07   \n",
       "2018-09-14       39.68     204.87      13.23      89.47     292.91   \n",
       "\n",
       "            ivv_close_shft  \n",
       "date                        \n",
       "2018-09-21          294.47  \n",
       "2018-09-20          295.36  \n",
       "2018-09-19          295.76  \n",
       "2018-09-18          293.28  \n",
       "2018-09-14          293.07  "
      ]
     },
     "execution_count": 142,
     "metadata": {},
     "output_type": "execute_result"
    }
   ],
   "source": [
    "etf.head()"
   ]
  },
  {
   "cell_type": "markdown",
   "metadata": {},
   "source": [
    "### Create 90% of the data set"
   ]
  },
  {
   "cell_type": "code",
   "execution_count": 143,
   "metadata": {},
   "outputs": [],
   "source": [
    "etf_90 = etf.tail(round(etf.shape[0] *.90))"
   ]
  },
  {
   "cell_type": "code",
   "execution_count": 144,
   "metadata": {},
   "outputs": [
    {
     "data": {
      "text/html": [
       "<div>\n",
       "<style scoped>\n",
       "    .dataframe tbody tr th:only-of-type {\n",
       "        vertical-align: middle;\n",
       "    }\n",
       "\n",
       "    .dataframe tbody tr th {\n",
       "        vertical-align: top;\n",
       "    }\n",
       "\n",
       "    .dataframe thead th {\n",
       "        text-align: right;\n",
       "    }\n",
       "</style>\n",
       "<table border=\"1\" class=\"dataframe\">\n",
       "  <thead>\n",
       "    <tr style=\"text-align: right;\">\n",
       "      <th></th>\n",
       "      <th>iyr_close</th>\n",
       "      <th>eem_close</th>\n",
       "      <th>agg_close</th>\n",
       "      <th>emb_close</th>\n",
       "      <th>bsv_close</th>\n",
       "      <th>iau_close</th>\n",
       "      <th>ifeu_close</th>\n",
       "      <th>ijh_close</th>\n",
       "      <th>slv_close</th>\n",
       "      <th>ijr_close</th>\n",
       "      <th>ivv_close</th>\n",
       "      <th>ivv_close_shft</th>\n",
       "    </tr>\n",
       "    <tr>\n",
       "      <th>date</th>\n",
       "      <th></th>\n",
       "      <th></th>\n",
       "      <th></th>\n",
       "      <th></th>\n",
       "      <th></th>\n",
       "      <th></th>\n",
       "      <th></th>\n",
       "      <th></th>\n",
       "      <th></th>\n",
       "      <th></th>\n",
       "      <th></th>\n",
       "      <th></th>\n",
       "    </tr>\n",
       "  </thead>\n",
       "  <tbody>\n",
       "    <tr>\n",
       "      <th>2017-09-18</th>\n",
       "      <td>81.64</td>\n",
       "      <td>45.75</td>\n",
       "      <td>109.86</td>\n",
       "      <td>116.83</td>\n",
       "      <td>79.93</td>\n",
       "      <td>12.57</td>\n",
       "      <td>39.23</td>\n",
       "      <td>176.09</td>\n",
       "      <td>16.27</td>\n",
       "      <td>71.34</td>\n",
       "      <td>252.71</td>\n",
       "      <td>252.95</td>\n",
       "    </tr>\n",
       "    <tr>\n",
       "      <th>2017-09-15</th>\n",
       "      <td>82.08</td>\n",
       "      <td>45.59</td>\n",
       "      <td>109.91</td>\n",
       "      <td>117.06</td>\n",
       "      <td>79.95</td>\n",
       "      <td>12.70</td>\n",
       "      <td>39.51</td>\n",
       "      <td>175.24</td>\n",
       "      <td>16.62</td>\n",
       "      <td>70.78</td>\n",
       "      <td>252.14</td>\n",
       "      <td>252.71</td>\n",
       "    </tr>\n",
       "    <tr>\n",
       "      <th>2017-09-14</th>\n",
       "      <td>81.74</td>\n",
       "      <td>45.32</td>\n",
       "      <td>109.93</td>\n",
       "      <td>116.90</td>\n",
       "      <td>80.00</td>\n",
       "      <td>12.76</td>\n",
       "      <td>39.22</td>\n",
       "      <td>174.69</td>\n",
       "      <td>16.77</td>\n",
       "      <td>70.40</td>\n",
       "      <td>251.82</td>\n",
       "      <td>252.14</td>\n",
       "    </tr>\n",
       "    <tr>\n",
       "      <th>2017-09-13</th>\n",
       "      <td>81.24</td>\n",
       "      <td>45.20</td>\n",
       "      <td>109.87</td>\n",
       "      <td>116.82</td>\n",
       "      <td>80.00</td>\n",
       "      <td>12.71</td>\n",
       "      <td>39.02</td>\n",
       "      <td>174.77</td>\n",
       "      <td>16.76</td>\n",
       "      <td>70.43</td>\n",
       "      <td>251.91</td>\n",
       "      <td>251.82</td>\n",
       "    </tr>\n",
       "    <tr>\n",
       "      <th>2017-09-12</th>\n",
       "      <td>81.54</td>\n",
       "      <td>45.44</td>\n",
       "      <td>109.98</td>\n",
       "      <td>116.82</td>\n",
       "      <td>80.06</td>\n",
       "      <td>12.80</td>\n",
       "      <td>39.48</td>\n",
       "      <td>174.96</td>\n",
       "      <td>16.89</td>\n",
       "      <td>70.20</td>\n",
       "      <td>251.80</td>\n",
       "      <td>251.91</td>\n",
       "    </tr>\n",
       "  </tbody>\n",
       "</table>\n",
       "</div>"
      ],
      "text/plain": [
       "            iyr_close  eem_close  agg_close  emb_close  bsv_close  iau_close  \\\n",
       "date                                                                           \n",
       "2017-09-18      81.64      45.75     109.86     116.83      79.93      12.57   \n",
       "2017-09-15      82.08      45.59     109.91     117.06      79.95      12.70   \n",
       "2017-09-14      81.74      45.32     109.93     116.90      80.00      12.76   \n",
       "2017-09-13      81.24      45.20     109.87     116.82      80.00      12.71   \n",
       "2017-09-12      81.54      45.44     109.98     116.82      80.06      12.80   \n",
       "\n",
       "            ifeu_close  ijh_close  slv_close  ijr_close  ivv_close  \\\n",
       "date                                                                 \n",
       "2017-09-18       39.23     176.09      16.27      71.34     252.71   \n",
       "2017-09-15       39.51     175.24      16.62      70.78     252.14   \n",
       "2017-09-14       39.22     174.69      16.77      70.40     251.82   \n",
       "2017-09-13       39.02     174.77      16.76      70.43     251.91   \n",
       "2017-09-12       39.48     174.96      16.89      70.20     251.80   \n",
       "\n",
       "            ivv_close_shft  \n",
       "date                        \n",
       "2017-09-18          252.95  \n",
       "2017-09-15          252.71  \n",
       "2017-09-14          252.14  \n",
       "2017-09-13          251.82  \n",
       "2017-09-12          251.91  "
      ]
     },
     "execution_count": 144,
     "metadata": {},
     "output_type": "execute_result"
    }
   ],
   "source": [
    "etf_90.head()"
   ]
  },
  {
   "cell_type": "markdown",
   "metadata": {},
   "source": [
    "### Setup Correlation matrix"
   ]
  },
  {
   "cell_type": "code",
   "execution_count": 145,
   "metadata": {},
   "outputs": [],
   "source": [
    "corr = etf_90.corr()"
   ]
  },
  {
   "cell_type": "code",
   "execution_count": 146,
   "metadata": {},
   "outputs": [
    {
     "data": {
      "text/plain": [
       "<matplotlib.axes._subplots.AxesSubplot at 0x1c2a701ef0>"
      ]
     },
     "execution_count": 146,
     "metadata": {},
     "output_type": "execute_result"
    },
    {
     "data": {
      "image/png": "[encoded data removed]",
      "text/plain": [
       "<Figure size 1080x576 with 2 Axes>"
      ]
     },
     "metadata": {},
     "output_type": "display_data"
    }
   ],
   "source": [
    "fig, ax = plt.subplots(figsize = (15,8))\n",
    "\n",
    "sns.heatmap(corr, annot = True)\n",
    "\n",
    "\n",
    "# fig, ax = plt.subplots(figsize=(10,10))         # Sample figsize in inches\n",
    "# sns.heatmap(df1.iloc[:, 1:6:], annot=True, linewidths=.5, ax=ax)"
   ]
  },
  {
   "cell_type": "markdown",
   "metadata": {},
   "source": [
    "### Setup features and target"
   ]
  },
  {
   "cell_type": "code",
   "execution_count": 147,
   "metadata": {},
   "outputs": [],
   "source": [
    "X = etf_90.drop(etf_90[[\"ivv_close_shft\"]],axis =1)\n",
    "y = etf_90[\"ivv_close_shft\"]"
   ]
  },
  {
   "cell_type": "code",
   "execution_count": 148,
   "metadata": {},
   "outputs": [],
   "source": [
    "# Train test split\n",
    "X_train, X_test, y_train, y_test = train_test_split(X, y, test_size = .25)"
   ]
  },
  {
   "cell_type": "code",
   "execution_count": 149,
   "metadata": {},
   "outputs": [
    {
     "data": {
      "text/plain": [
       "(2275, 12)"
      ]
     },
     "execution_count": 149,
     "metadata": {},
     "output_type": "execute_result"
    }
   ],
   "source": [
    "etf_90.shape"
   ]
  },
  {
   "cell_type": "code",
   "execution_count": null,
   "metadata": {},
   "outputs": [],
   "source": []
  },
  {
   "cell_type": "code",
   "execution_count": 150,
   "metadata": {},
   "outputs": [],
   "source": [
    "# scaling the X data\n",
    "ss = StandardScaler()\n",
    "Xs_train = ss.fit_transform(X_train)\n",
    "Xs_test = ss.transform(X_test)"
   ]
  },
  {
   "cell_type": "markdown",
   "metadata": {},
   "source": [
    "### Run a series of regressor models"
   ]
  },
  {
   "cell_type": "code",
   "execution_count": 151,
   "metadata": {},
   "outputs": [
    {
     "name": "stdout",
     "output_type": "stream",
     "text": [
      "Random Forrest score:  0.998489052589121\n",
      "Bagging Regressor score:  0.9984783206151381\n",
      "Estra Trees score:  0.9984458082127345\n",
      "Gradient Boosting score:  0.9985613957320341\n",
      "Support Vector Machine Score:  0.9895850906908303\n",
      "XGBoost score:  0.9546028227492991\n",
      "AdaBoost Regressor score:  0.9986481519965014\n"
     ]
    }
   ],
   "source": [
    "# Random forest Regressor\n",
    "rfr = RandomForestRegressor()\n",
    "modelrfr = rfr.fit(Xs_train,y_train)\n",
    "print(\"Random Forrest score: \", modelrfr.score(Xs_test,y_test))\n",
    "\n",
    "# Bagging Regressor\n",
    "bag = BaggingRegressor()\n",
    "modelbag = bag.fit(Xs_train, y_train)\n",
    "print(\"Bagging Regressor score: \", modelbag.score(Xs_test,y_test))\n",
    "\n",
    "# Extra Trees Regressor\n",
    "xrt = ExtraTreesRegressor()\n",
    "modelxrt = xrt.fit(Xs_train, y_train)\n",
    "print(\"Estra Trees score: \", modelxrt.score(Xs_test, y_test))\n",
    "\n",
    "# Gradient Boosting Regressor\n",
    "grd = GradientBoostingRegressor()\n",
    "modelgrd = grd.fit(Xs_train, y_train)\n",
    "print(\"Gradient Boosting score: \", modelgrd.score(Xs_test, y_test))\n",
    "\n",
    "# SVM Regressor\n",
    "svm = SVR()\n",
    "modelsvm = svm.fit(Xs_train,y_train)\n",
    "print(\"Support Vector Machine Score: \", modelsvm.score(Xs_test,y_test))\n",
    "\n",
    "# XGBoost Regressor\n",
    "xgb = XGBRegressor(booster = \"gblinear\")\n",
    "modelxgb = xgb.fit(Xs_train,y_train)\n",
    "print(\"XGBoost score: \", modelxgb.score(Xs_test,y_test))\n",
    "\n",
    "# ADA Boost Regressor\n",
    "ada = AdaBoostRegressor(base_estimator=LinearRegression())\n",
    "modelada = ada.fit(Xs_train,y_train)\n",
    "print(\"AdaBoost Regressor score: \", modelada.score(Xs_test,y_test))\n"
   ]
  },
  {
   "cell_type": "code",
   "execution_count": 152,
   "metadata": {},
   "outputs": [
    {
     "name": "stdout",
     "output_type": "stream",
     "text": [
      "AdaBoost 2 Regressor score:  0.9983834765606152\n"
     ]
    }
   ],
   "source": [
    "svr = SVR()\n",
    "ada2 = AdaBoostRegressor(n_estimators=550, base_estimator=(SVR(kernel = 'linear')))\n",
    "modelada2 = ada2.fit(Xs_train,y_train)\n",
    "print(\"AdaBoost 2 Regressor score: \", modelada2.score(Xs_test,y_test))"
   ]
  },
  {
   "cell_type": "markdown",
   "metadata": {},
   "source": [
    "### Take a look at the predictions based off Adaboost model with a linear regression base model for the test set"
   ]
  },
  {
   "cell_type": "code",
   "execution_count": 153,
   "metadata": {},
   "outputs": [],
   "source": [
    "y_hat = modelada.predict(Xs_test)"
   ]
  },
  {
   "cell_type": "code",
   "execution_count": 154,
   "metadata": {},
   "outputs": [],
   "source": [
    "y_test['y_hat'] = y_hat"
   ]
  },
  {
   "cell_type": "code",
   "execution_count": 155,
   "metadata": {},
   "outputs": [
    {
     "data": {
      "text/plain": [
       "date\n",
       "2015-11-20    210.22\n",
       "2016-05-04    206.01\n",
       "2017-07-31    248.99\n",
       "2009-06-10     95.08\n",
       "2014-08-25    201.65\n",
       "Name: ivv_close_shft, dtype: object"
      ]
     },
     "execution_count": 155,
     "metadata": {},
     "output_type": "execute_result"
    }
   ],
   "source": [
    "y_test.head()"
   ]
  },
  {
   "cell_type": "markdown",
   "metadata": {},
   "source": [
    "### Bring in the 10% of the data that was held away to test model on."
   ]
  },
  {
   "cell_type": "code",
   "execution_count": 156,
   "metadata": {},
   "outputs": [],
   "source": [
    "etf_10 = etf.head(etf.shape[0] - etf_90.shape[0])"
   ]
  },
  {
   "cell_type": "code",
   "execution_count": 157,
   "metadata": {},
   "outputs": [],
   "source": [
    "X1 = etf_10.drop(etf[[\"ivv_close_shft\"]], axis =1)\n",
    "y1 = etf_10[['ivv_close_shft']]"
   ]
  },
  {
   "cell_type": "code",
   "execution_count": 158,
   "metadata": {},
   "outputs": [],
   "source": [
    "X1s = ss.transform(X1)"
   ]
  },
  {
   "cell_type": "code",
   "execution_count": 159,
   "metadata": {},
   "outputs": [
    {
     "data": {
      "text/plain": [
       "0.9568125822426385"
      ]
     },
     "execution_count": 159,
     "metadata": {},
     "output_type": "execute_result"
    }
   ],
   "source": [
    "modelada.score(X1s, y1)"
   ]
  },
  {
   "cell_type": "code",
   "execution_count": null,
   "metadata": {},
   "outputs": [],
   "source": []
  },
  {
   "cell_type": "markdown",
   "metadata": {},
   "source": [
    "### Create new predictions based on test set that is held away"
   ]
  },
  {
   "cell_type": "code",
   "execution_count": 160,
   "metadata": {},
   "outputs": [
    {
     "name": "stderr",
     "output_type": "stream",
     "text": [
      "/Users/preilley/anaconda3/lib/python3.6/site-packages/ipykernel_launcher.py:2: SettingWithCopyWarning: \n",
      "A value is trying to be set on a copy of a slice from a DataFrame.\n",
      "Try using .loc[row_indexer,col_indexer] = value instead\n",
      "\n",
      "See the caveats in the documentation: http://pandas.pydata.org/pandas-docs/stable/indexing.html#indexing-view-versus-copy\n",
      "  \n"
     ]
    }
   ],
   "source": [
    "y_hat = modelada.predict(X1s)\n",
    "y1['y_hat'] = y_hat"
   ]
  },
  {
   "cell_type": "markdown",
   "metadata": {},
   "source": [
    "### Creating a dataframe to use in graphs below"
   ]
  },
  {
   "cell_type": "code",
   "execution_count": 161,
   "metadata": {},
   "outputs": [
    {
     "name": "stderr",
     "output_type": "stream",
     "text": [
      "/Users/preilley/anaconda3/lib/python3.6/site-packages/ipykernel_launcher.py:1: SettingWithCopyWarning: \n",
      "A value is trying to be set on a copy of a slice from a DataFrame.\n",
      "Try using .loc[row_indexer,col_indexer] = value instead\n",
      "\n",
      "See the caveats in the documentation: http://pandas.pydata.org/pandas-docs/stable/indexing.html#indexing-view-versus-copy\n",
      "  \"\"\"Entry point for launching an IPython kernel.\n"
     ]
    }
   ],
   "source": [
    "y1['ivv_close'] = X1['ivv_close']"
   ]
  },
  {
   "cell_type": "code",
   "execution_count": 162,
   "metadata": {},
   "outputs": [
    {
     "name": "stderr",
     "output_type": "stream",
     "text": [
      "/Users/preilley/anaconda3/lib/python3.6/site-packages/ipykernel_launcher.py:1: SettingWithCopyWarning: \n",
      "A value is trying to be set on a copy of a slice from a DataFrame.\n",
      "Try using .loc[row_indexer,col_indexer] = value instead\n",
      "\n",
      "See the caveats in the documentation: http://pandas.pydata.org/pandas-docs/stable/indexing.html#indexing-view-versus-copy\n",
      "  \"\"\"Entry point for launching an IPython kernel.\n"
     ]
    }
   ],
   "source": [
    "y1[\"ivv_shft for graph\"]= y1[['ivv_close']].shift(-1)"
   ]
  },
  {
   "cell_type": "code",
   "execution_count": 163,
   "metadata": {},
   "outputs": [
    {
     "data": {
      "text/html": [
       "<div>\n",
       "<style scoped>\n",
       "    .dataframe tbody tr th:only-of-type {\n",
       "        vertical-align: middle;\n",
       "    }\n",
       "\n",
       "    .dataframe tbody tr th {\n",
       "        vertical-align: top;\n",
       "    }\n",
       "\n",
       "    .dataframe thead th {\n",
       "        text-align: right;\n",
       "    }\n",
       "</style>\n",
       "<table border=\"1\" class=\"dataframe\">\n",
       "  <thead>\n",
       "    <tr style=\"text-align: right;\">\n",
       "      <th></th>\n",
       "      <th>ivv_close_shft</th>\n",
       "      <th>y_hat</th>\n",
       "      <th>ivv_close</th>\n",
       "      <th>ivv_shft for graph</th>\n",
       "    </tr>\n",
       "    <tr>\n",
       "      <th>date</th>\n",
       "      <th></th>\n",
       "      <th></th>\n",
       "      <th></th>\n",
       "      <th></th>\n",
       "    </tr>\n",
       "  </thead>\n",
       "  <tbody>\n",
       "    <tr>\n",
       "      <th>2018-09-21</th>\n",
       "      <td>294.47</td>\n",
       "      <td>294.631957</td>\n",
       "      <td>295.36</td>\n",
       "      <td>295.76</td>\n",
       "    </tr>\n",
       "    <tr>\n",
       "      <th>2018-09-20</th>\n",
       "      <td>295.36</td>\n",
       "      <td>295.050812</td>\n",
       "      <td>295.76</td>\n",
       "      <td>293.28</td>\n",
       "    </tr>\n",
       "    <tr>\n",
       "      <th>2018-09-19</th>\n",
       "      <td>295.76</td>\n",
       "      <td>292.595793</td>\n",
       "      <td>293.28</td>\n",
       "      <td>293.07</td>\n",
       "    </tr>\n",
       "    <tr>\n",
       "      <th>2018-09-18</th>\n",
       "      <td>293.28</td>\n",
       "      <td>292.383064</td>\n",
       "      <td>293.07</td>\n",
       "      <td>292.91</td>\n",
       "    </tr>\n",
       "    <tr>\n",
       "      <th>2018-09-14</th>\n",
       "      <td>293.07</td>\n",
       "      <td>292.203143</td>\n",
       "      <td>292.91</td>\n",
       "      <td>292.92</td>\n",
       "    </tr>\n",
       "  </tbody>\n",
       "</table>\n",
       "</div>"
      ],
      "text/plain": [
       "            ivv_close_shft       y_hat  ivv_close  ivv_shft for graph\n",
       "date                                                                 \n",
       "2018-09-21          294.47  294.631957     295.36              295.76\n",
       "2018-09-20          295.36  295.050812     295.76              293.28\n",
       "2018-09-19          295.76  292.595793     293.28              293.07\n",
       "2018-09-18          293.28  292.383064     293.07              292.91\n",
       "2018-09-14          293.07  292.203143     292.91              292.92"
      ]
     },
     "execution_count": 163,
     "metadata": {},
     "output_type": "execute_result"
    }
   ],
   "source": [
    "y1.head()"
   ]
  },
  {
   "cell_type": "code",
   "execution_count": 164,
   "metadata": {},
   "outputs": [
    {
     "name": "stderr",
     "output_type": "stream",
     "text": [
      "/Users/preilley/anaconda3/lib/python3.6/site-packages/ipykernel_launcher.py:1: SettingWithCopyWarning: \n",
      "A value is trying to be set on a copy of a slice from a DataFrame.\n",
      "Try using .loc[row_indexer,col_indexer] = value instead\n",
      "\n",
      "See the caveats in the documentation: http://pandas.pydata.org/pandas-docs/stable/indexing.html#indexing-view-versus-copy\n",
      "  \"\"\"Entry point for launching an IPython kernel.\n"
     ]
    }
   ],
   "source": [
    "y1['res_close'] = y1['ivv_close']- y1['y_hat']"
   ]
  },
  {
   "cell_type": "code",
   "execution_count": 165,
   "metadata": {},
   "outputs": [
    {
     "data": {
      "text/plain": [
       "<matplotlib.legend.Legend at 0x1c316357b8>"
      ]
     },
     "execution_count": 165,
     "metadata": {},
     "output_type": "execute_result"
    },
    {
     "data": {
      "image/png": "[encoded data removed]",
      "text/plain": [
       "<Figure size 1440x360 with 1 Axes>"
      ]
     },
     "metadata": {},
     "output_type": "display_data"
    }
   ],
   "source": [
    "plt.figure(figsize = (20,5))\n",
    "plt.plot(y1[['y_hat']], 'r')\n",
    "plt.plot(y1[['ivv_close']], 'b')\n",
    "plt.title('S&P Price vs. Prediction', fontsize=30)\n",
    "plt.xlabel('DATE', fontsize=20)\n",
    "plt.ylabel('PRICE', fontsize=20)\n",
    "plt.legend(['Prediction', 'IVV Close'],prop={'size': 20})"
   ]
  },
  {
   "cell_type": "code",
   "execution_count": 170,
   "metadata": {},
   "outputs": [
    {
     "data": {
      "text/plain": [
       "Text(0, 0.5, 'Residual Price')"
      ]
     },
     "execution_count": 170,
     "metadata": {},
     "output_type": "execute_result"
    },
    {
     "data": {
      "image/png": "[encoded data removed]",
      "text/plain": [
       "<Figure size 1440x360 with 1 Axes>"
      ]
     },
     "metadata": {},
     "output_type": "display_data"
    }
   ],
   "source": [
    "plt.figure(figsize = (20,5))\n",
    "plt.plot(y1['res_close'], 'r-o')\n",
    "plt.title('Actual S&P Price - Predicted (Residuals)', fontsize=30)\n",
    "plt.xlabel('DATE', fontsize=20)\n",
    "plt.ylabel('Residual Price', fontsize=20) "
   ]
  },
  {
   "cell_type": "code",
   "execution_count": null,
   "metadata": {},
   "outputs": [],
   "source": []
  }
 ],
 "metadata": {
  "kernelspec": {
   "display_name": "Python 3",
   "language": "python",
   "name": "python3"
  },
  "language_info": {
   "codemirror_mode": {
    "name": "ipython",
    "version": 3
   },
   "file_extension": ".py",
   "mimetype": "text/x-python",
   "name": "python",
   "nbconvert_exporter": "python",
   "pygments_lexer": "ipython3",
   "version": "3.6.5"
  }
 },
 "nbformat": 4,
 "nbformat_minor": 2
}
